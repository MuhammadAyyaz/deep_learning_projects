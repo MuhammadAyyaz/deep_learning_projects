{
 "cells": [
  {
   "cell_type": "code",
   "execution_count": 106,
   "metadata": {},
   "outputs": [],
   "source": [
    "from keras.layers.core import Dense, Activation, Dropout"
   ]
  },
  {
   "cell_type": "code",
   "execution_count": 107,
   "metadata": {},
   "outputs": [],
   "source": [
    "from keras.optimizers import Adam\n",
    "from keras.models import Sequential\n",
    "from keras.utils import np_utils\n"
   ]
  },
  {
   "cell_type": "code",
   "execution_count": 108,
   "metadata": {},
   "outputs": [],
   "source": [
    "DROPOUT = 0.3\n",
    "model=Sequential((Dense(512, input_shape=(28*28, ), activation='relu'),\n",
    "                  Dropout(DROPOUT),\n",
    "                  Dense(512, activation='relu'),\n",
    "                  Dropout(DROPOUT),\n",
    "                  Dense(128, activation='relu'),\n",
    "                  Dropout(DROPOUT),\n",
    "                  Dense(128, activation='relu'),\n",
    "                  Dropout(DROPOUT),\n",
    "                  Dense(10, activation='softmax') \n",
    "                   \n",
    "                    \n",
    "))\n"
   ]
  },
  {
   "cell_type": "code",
   "execution_count": 109,
   "metadata": {},
   "outputs": [
    {
     "name": "stdout",
     "output_type": "stream",
     "text": [
      "_________________________________________________________________\n",
      "Layer (type)                 Output Shape              Param #   \n",
      "=================================================================\n",
      "dense_32 (Dense)             (None, 512)               401920    \n",
      "_________________________________________________________________\n",
      "dropout_18 (Dropout)         (None, 512)               0         \n",
      "_________________________________________________________________\n",
      "dense_33 (Dense)             (None, 512)               262656    \n",
      "_________________________________________________________________\n",
      "dropout_19 (Dropout)         (None, 512)               0         \n",
      "_________________________________________________________________\n",
      "dense_34 (Dense)             (None, 128)               65664     \n",
      "_________________________________________________________________\n",
      "dropout_20 (Dropout)         (None, 128)               0         \n",
      "_________________________________________________________________\n",
      "dense_35 (Dense)             (None, 128)               16512     \n",
      "_________________________________________________________________\n",
      "dropout_21 (Dropout)         (None, 128)               0         \n",
      "_________________________________________________________________\n",
      "dense_36 (Dense)             (None, 10)                1290      \n",
      "=================================================================\n",
      "Total params: 748,042\n",
      "Trainable params: 748,042\n",
      "Non-trainable params: 0\n",
      "_________________________________________________________________\n"
     ]
    }
   ],
   "source": [
    "model.summary()"
   ]
  },
  {
   "cell_type": "code",
   "execution_count": 110,
   "metadata": {},
   "outputs": [],
   "source": [
    "from keras.datasets import mnist"
   ]
  },
  {
   "cell_type": "code",
   "execution_count": 111,
   "metadata": {},
   "outputs": [],
   "source": [
    "(train_images,train_labels),(test_images,test_labels)=mnist.load_data()"
   ]
  },
  {
   "cell_type": "code",
   "execution_count": 112,
   "metadata": {},
   "outputs": [
    {
     "data": {
      "text/plain": [
       "(60000, 28, 28)"
      ]
     },
     "execution_count": 112,
     "metadata": {},
     "output_type": "execute_result"
    }
   ],
   "source": [
    "train_images.shape"
   ]
  },
  {
   "cell_type": "code",
   "execution_count": 113,
   "metadata": {},
   "outputs": [],
   "source": [
    "model.compile(Adam(lr=.0001) ,loss='categorical_crossentropy', metrics=['accuracy'])\n",
    "train_images=train_images.reshape((60000,28*28))\n",
    "train_images=train_images.astype('float32')/ 255\n",
    "test_images=test_images.reshape((10000,28*28))\n",
    "test_images=test_images.astype('float32')/ 255\n"
   ]
  },
  {
   "cell_type": "code",
   "execution_count": 114,
   "metadata": {},
   "outputs": [
    {
     "data": {
      "text/plain": [
       "(60000,)"
      ]
     },
     "execution_count": 114,
     "metadata": {},
     "output_type": "execute_result"
    }
   ],
   "source": [
    "train_labels.shape"
   ]
  },
  {
   "cell_type": "code",
   "execution_count": 115,
   "metadata": {},
   "outputs": [],
   "source": [
    "from keras.utils import to_categorical"
   ]
  },
  {
   "cell_type": "code",
   "execution_count": 116,
   "metadata": {},
   "outputs": [],
   "source": [
    "train_labels=to_categorical(train_labels)\n",
    "test_labels=to_categorical(test_labels)\n"
   ]
  },
  {
   "cell_type": "code",
   "execution_count": 117,
   "metadata": {},
   "outputs": [
    {
     "data": {
      "text/plain": [
       "(10000, 10)"
      ]
     },
     "execution_count": 117,
     "metadata": {},
     "output_type": "execute_result"
    }
   ],
   "source": [
    "test_labels.shape"
   ]
  },
  {
   "cell_type": "code",
   "execution_count": 118,
   "metadata": {},
   "outputs": [
    {
     "name": "stdout",
     "output_type": "stream",
     "text": [
      "Epoch 1/40\n",
      "60000/60000 [==============================] - 18s 307us/step - loss: 1.6039 - acc: 0.4696\n",
      "Epoch 2/40\n",
      "60000/60000 [==============================] - 11s 179us/step - loss: 0.6585 - acc: 0.7938\n",
      "Epoch 3/40\n",
      "60000/60000 [==============================] - 11s 188us/step - loss: 0.4514 - acc: 0.8661\n",
      "Epoch 4/40\n",
      "60000/60000 [==============================] - 11s 181us/step - loss: 0.3619 - acc: 0.8948\n",
      "Epoch 5/40\n",
      "60000/60000 [==============================] - 11s 184us/step - loss: 0.3062 - acc: 0.9111\n",
      "Epoch 6/40\n",
      "60000/60000 [==============================] - 11s 191us/step - loss: 0.2677 - acc: 0.9237\n",
      "Epoch 7/40\n",
      "60000/60000 [==============================] - 12s 193us/step - loss: 0.2390 - acc: 0.9316\n",
      "Epoch 8/40\n",
      "60000/60000 [==============================] - 12s 193us/step - loss: 0.2145 - acc: 0.9392\n",
      "Epoch 9/40\n",
      "60000/60000 [==============================] - 12s 195us/step - loss: 0.1997 - acc: 0.9437\n",
      "Epoch 10/40\n",
      "60000/60000 [==============================] - 12s 199us/step - loss: 0.1816 - acc: 0.9493\n",
      "Epoch 11/40\n",
      "60000/60000 [==============================] - 12s 201us/step - loss: 0.1669 - acc: 0.9521\n",
      "Epoch 12/40\n",
      "60000/60000 [==============================] - 12s 206us/step - loss: 0.1574 - acc: 0.9560\n",
      "Epoch 13/40\n",
      "60000/60000 [==============================] - 12s 195us/step - loss: 0.1461 - acc: 0.9587\n",
      "Epoch 14/40\n",
      "60000/60000 [==============================] - 12s 197us/step - loss: 0.1382 - acc: 0.9609\n",
      "Epoch 15/40\n",
      "60000/60000 [==============================] - 12s 195us/step - loss: 0.1288 - acc: 0.9636\n",
      "Epoch 16/40\n",
      "60000/60000 [==============================] - 12s 205us/step - loss: 0.1211 - acc: 0.9646\n",
      "Epoch 17/40\n",
      "60000/60000 [==============================] - 12s 205us/step - loss: 0.1125 - acc: 0.9678\n",
      "Epoch 18/40\n",
      "60000/60000 [==============================] - 12s 205us/step - loss: 0.1072 - acc: 0.9697\n",
      "Epoch 19/40\n",
      "60000/60000 [==============================] - 12s 207us/step - loss: 0.1007 - acc: 0.9707\n",
      "Epoch 20/40\n",
      "60000/60000 [==============================] - 12s 207us/step - loss: 0.0967 - acc: 0.9722\n",
      "Epoch 21/40\n",
      "60000/60000 [==============================] - 13s 216us/step - loss: 0.0885 - acc: 0.9749\n",
      "Epoch 22/40\n",
      "60000/60000 [==============================] - 13s 208us/step - loss: 0.0850 - acc: 0.9752\n",
      "Epoch 23/40\n",
      "60000/60000 [==============================] - 12s 194us/step - loss: 0.0797 - acc: 0.9766\n",
      "Epoch 24/40\n",
      "60000/60000 [==============================] - 12s 195us/step - loss: 0.0791 - acc: 0.9767\n",
      "Epoch 25/40\n",
      "60000/60000 [==============================] - 12s 205us/step - loss: 0.0744 - acc: 0.9782\n",
      "Epoch 26/40\n",
      "60000/60000 [==============================] - 13s 210us/step - loss: 0.0689 - acc: 0.9801\n",
      "Epoch 27/40\n",
      "60000/60000 [==============================] - 13s 211us/step - loss: 0.0683 - acc: 0.9799\n",
      "Epoch 28/40\n",
      "60000/60000 [==============================] - 13s 211us/step - loss: 0.0643 - acc: 0.9811\n",
      "Epoch 29/40\n",
      "60000/60000 [==============================] - 13s 212us/step - loss: 0.0605 - acc: 0.9814\n",
      "Epoch 30/40\n",
      "60000/60000 [==============================] - 13s 217us/step - loss: 0.0580 - acc: 0.9828\n",
      "Epoch 31/40\n",
      "60000/60000 [==============================] - 13s 213us/step - loss: 0.0537 - acc: 0.9842\n",
      "Epoch 32/40\n",
      "60000/60000 [==============================] - 12s 207us/step - loss: 0.0525 - acc: 0.9845\n",
      "Epoch 33/40\n",
      "60000/60000 [==============================] - 12s 197us/step - loss: 0.0504 - acc: 0.9850\n",
      "Epoch 34/40\n",
      "60000/60000 [==============================] - 12s 197us/step - loss: 0.0481 - acc: 0.9853\n",
      "Epoch 35/40\n",
      "60000/60000 [==============================] - 13s 214us/step - loss: 0.0462 - acc: 0.9865\n",
      "Epoch 36/40\n",
      "60000/60000 [==============================] - 12s 201us/step - loss: 0.0445 - acc: 0.9874\n",
      "Epoch 37/40\n",
      "60000/60000 [==============================] - 12s 199us/step - loss: 0.0427 - acc: 0.9874\n",
      "Epoch 38/40\n",
      "60000/60000 [==============================] - 12s 200us/step - loss: 0.0392 - acc: 0.9883\n",
      "Epoch 39/40\n",
      "60000/60000 [==============================] - 12s 199us/step - loss: 0.0388 - acc: 0.9883\n",
      "Epoch 40/40\n",
      "60000/60000 [==============================] - 13s 212us/step - loss: 0.0396 - acc: 0.9881\n"
     ]
    },
    {
     "data": {
      "text/plain": [
       "<keras.callbacks.History at 0x2b12628b940>"
      ]
     },
     "execution_count": 118,
     "metadata": {},
     "output_type": "execute_result"
    }
   ],
   "source": [
    "model.fit(train_images,train_labels, batch_size=512, epochs=40)"
   ]
  },
  {
   "cell_type": "code",
   "execution_count": 119,
   "metadata": {},
   "outputs": [
    {
     "name": "stdout",
     "output_type": "stream",
     "text": [
      "10000/10000 [==============================] - 4s 403us/step\n"
     ]
    }
   ],
   "source": [
    "test_loss,test_accuracy=model.evaluate(test_images,test_labels)"
   ]
  },
  {
   "cell_type": "code",
   "execution_count": 120,
   "metadata": {},
   "outputs": [
    {
     "data": {
      "text/plain": [
       "0.9829"
      ]
     },
     "execution_count": 120,
     "metadata": {},
     "output_type": "execute_result"
    }
   ],
   "source": [
    "test_accuracy"
   ]
  },
  {
   "cell_type": "code",
   "execution_count": 121,
   "metadata": {},
   "outputs": [
    {
     "data": {
      "text/plain": [
       "0.060929506599474555"
      ]
     },
     "execution_count": 121,
     "metadata": {},
     "output_type": "execute_result"
    }
   ],
   "source": [
    "test_loss"
   ]
  },
  {
   "cell_type": "code",
   "execution_count": 87,
   "metadata": {},
   "outputs": [],
   "source": [
    "import numpy as np\n",
    "a=np.array(([1,3,45,3],[2,3,5,3]))"
   ]
  },
  {
   "cell_type": "code",
   "execution_count": 88,
   "metadata": {},
   "outputs": [
    {
     "data": {
      "text/plain": [
       "2"
      ]
     },
     "execution_count": 88,
     "metadata": {},
     "output_type": "execute_result"
    }
   ],
   "source": [
    "a.ndim"
   ]
  },
  {
   "cell_type": "code",
   "execution_count": 93,
   "metadata": {},
   "outputs": [
    {
     "data": {
      "text/plain": [
       "(2, 4)"
      ]
     },
     "execution_count": 93,
     "metadata": {},
     "output_type": "execute_result"
    }
   ],
   "source": [
    "a.shape"
   ]
  },
  {
   "cell_type": "code",
   "execution_count": 94,
   "metadata": {},
   "outputs": [],
   "source": [
    "def naive_relu(x):\n",
    "    assert len(x.shape) == 2\n",
    "    x = x.copy()\n",
    "    for i in range(x.shape[0]):\n",
    "        for j in range(x.shape[1]):\n",
    "            x[i, j] = max(x[i, j], 0)\n",
    "    return x"
   ]
  },
  {
   "cell_type": "code",
   "execution_count": 96,
   "metadata": {},
   "outputs": [
    {
     "data": {
      "text/plain": [
       "array([[ 1,  3, 45,  3],\n",
       "       [ 2,  3,  5,  3]])"
      ]
     },
     "execution_count": 96,
     "metadata": {},
     "output_type": "execute_result"
    }
   ],
   "source": [
    "\n",
    "naive_relu(a)"
   ]
  },
  {
   "cell_type": "code",
   "execution_count": 97,
   "metadata": {},
   "outputs": [
    {
     "data": {
      "text/plain": [
       "array([[ 1,  3, 45,  3],\n",
       "       [ 2,  3,  5,  3]])"
      ]
     },
     "execution_count": 97,
     "metadata": {},
     "output_type": "execute_result"
    }
   ],
   "source": [
    "a"
   ]
  },
  {
   "cell_type": "code",
   "execution_count": 99,
   "metadata": {},
   "outputs": [
    {
     "data": {
      "text/plain": [
       "2"
      ]
     },
     "execution_count": 99,
     "metadata": {},
     "output_type": "execute_result"
    }
   ],
   "source": [
    "a.shape[0]"
   ]
  },
  {
   "cell_type": "code",
   "execution_count": 103,
   "metadata": {},
   "outputs": [],
   "source": [
    "b=[2,3,4]\n",
    "c=[3,5,1]\n",
    "b=np.array(b)\n",
    "c=np.array(c)\n"
   ]
  },
  {
   "cell_type": "code",
   "execution_count": 104,
   "metadata": {},
   "outputs": [],
   "source": [
    "def d(x,y):\n",
    "    assert len(x.shape) == 1\n",
    "    assert len(y.shape) == 1\n",
    "    assert x.shape[0] == y.shape[0]\n",
    "    z = 0.\n",
    "    for i in range(x.shape[0]):\n",
    "        z += x[i] * y[i]\n",
    "    return z"
   ]
  },
  {
   "cell_type": "code",
   "execution_count": 105,
   "metadata": {},
   "outputs": [
    {
     "data": {
      "text/plain": [
       "25.0"
      ]
     },
     "execution_count": 105,
     "metadata": {},
     "output_type": "execute_result"
    }
   ],
   "source": [
    "d(b,c)"
   ]
  },
  {
   "cell_type": "code",
   "execution_count": null,
   "metadata": {},
   "outputs": [],
   "source": []
  }
 ],
 "metadata": {
  "kernelspec": {
   "display_name": "Python 3",
   "language": "python",
   "name": "python3"
  },
  "language_info": {
   "codemirror_mode": {
    "name": "ipython",
    "version": 3
   },
   "file_extension": ".py",
   "mimetype": "text/x-python",
   "name": "python",
   "nbconvert_exporter": "python",
   "pygments_lexer": "ipython3",
   "version": "3.6.4"
  }
 },
 "nbformat": 4,
 "nbformat_minor": 2
}
